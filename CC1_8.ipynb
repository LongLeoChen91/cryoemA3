{
 "cells": [
  {
   "cell_type": "code",
   "execution_count": 12,
   "metadata": {},
   "outputs": [],
   "source": [
    "import SimpleITK as sitk\n",
    "\n",
    "raw_path_data = \"C:/Users/longl/Documents/emA3/Benji/MitochondriaAnalysis/TIFs/Infect_Cell5_annotation/CM1.tif\"\n",
    "\n",
    "\n",
    "raw_data_readin= sitk.ReadImage(raw_path_data)\n",
    "raw_data = sitk.GetArrayFromImage(raw_data_readin)\n",
    "\n",
    "\n",
    "import cv2\n",
    "import numpy as np\n",
    "import matplotlib.pyplot as plt\n",
    "from PIL import Image\n",
    "from skimage.external import tifffile as tif\n",
    "\n",
    "def FillHole(mask):\n",
    "    contours, hierarchy = cv2.findContours(mask, cv2.RETR_TREE, cv2.CHAIN_APPROX_SIMPLE)\n",
    "    len_contour = len(contours)\n",
    "    contour_list = []\n",
    "    for i in range(len_contour):\n",
    "        drawing = np.zeros_like(mask, np.uint8)  # create a black image\n",
    "        img_contour = cv2.drawContours(drawing, contours, i, (255, 255, 255), -1)\n",
    "        contour_list.append(img_contour)\n",
    " \n",
    "    out = sum(contour_list)\n",
    "    return out\n",
    "\n",
    "def FillHole255(input_bound):\n",
    "    data_tmp = input_bound\n",
    "    if data_tmp.max()>1:\n",
    "        mask_out = FillHole(data_tmp)\n",
    "    else:\n",
    "        mask_out = data_tmp\n",
    "    mask_out[mask_out > 0] = 255\n",
    "    return mask_out\n",
    "\n",
    "img_num = raw_data.shape[0]\n",
    "\n",
    "for img_i in range(0,img_num):\n",
    "#     print(img_i)\n",
    "    seg_raw = raw_data[img_i]\n",
    "    seg_raw0 = seg_raw.astype('uint8')\n",
    "    \n",
    "    seg_raw0 = FillHole255(seg_raw0)\n",
    "    \n",
    "#     print(seg_raw0.shape)\n",
    "    raw_data[img_i]=seg_raw0\n",
    "    \n",
    "    tif.imsave('tmp2.tif', raw_data)"
   ]
  },
  {
   "cell_type": "code",
   "execution_count": 9,
   "metadata": {},
   "outputs": [
    {
     "name": "stdout",
     "output_type": "stream",
     "text": [
      "(370, 1180, 3068)\n",
      "493110500\n",
      "0.36813335057374125\n"
     ]
    }
   ],
   "source": [
    "import SimpleITK as sitk\n",
    "\n",
    "raw_path_data = \"C:/Users/longl/Documents/emA3/Benji/MitochondriaAnalysis/TIFs/Control_Cell1_annotation_8/CM_solid.tif\"\n",
    "\n",
    "raw_data_readin= sitk.ReadImage(raw_path_data)\n",
    "raw_data = sitk.GetArrayFromImage(raw_data_readin)\n",
    "raw_data = raw_data[0:370]\n",
    "\n",
    "Shapexyz=raw_data.shape\n",
    "\n",
    "print(Shapexyz)\n",
    "\n",
    "cytoplasm = raw_data>0\n",
    "CP_volume = cytoplasm.sum()\n",
    "print(CP_volume)\n",
    "\n",
    "volume = Shapexyz[0]*Shapexyz[1]*Shapexyz[2]\n",
    "print(CP_volume/volume)"
   ]
  },
  {
   "cell_type": "code",
   "execution_count": 3,
   "metadata": {},
   "outputs": [
    {
     "name": "stdout",
     "output_type": "stream",
     "text": [
      "22606838\n"
     ]
    }
   ],
   "source": [
    "cytoplasm = raw_data>0\n",
    "CP_volume = cytoplasm.sum()\n",
    "print(CP_volume)"
   ]
  },
  {
   "cell_type": "code",
   "execution_count": 5,
   "metadata": {},
   "outputs": [
    {
     "name": "stdout",
     "output_type": "stream",
     "text": [
      "0.016877213157735996\n"
     ]
    }
   ],
   "source": [
    "volume = Shapexyz[0]*Shapexyz[1]*Shapexyz[2]\n",
    "print(CP_volume/volume)"
   ]
  },
  {
   "cell_type": "code",
   "execution_count": 8,
   "metadata": {},
   "outputs": [
    {
     "name": "stdout",
     "output_type": "stream",
     "text": [
      "0.478980262594464\n"
     ]
    }
   ],
   "source": [
    "print(CP_volume/volume)"
   ]
  },
  {
   "cell_type": "code",
   "execution_count": 11,
   "metadata": {},
   "outputs": [
    {
     "name": "stdout",
     "output_type": "stream",
     "text": [
      "198545268\n"
     ]
    }
   ],
   "source": [
    "import SimpleITK as sitk\n",
    "\n",
    "raw_path_data = \"tmp1.tif\"\n",
    "\n",
    "raw_data_readin= sitk.ReadImage(raw_path_data)\n",
    "raw_data = sitk.GetArrayFromImage(raw_data_readin)\n",
    "\n",
    "Index = raw_data>0\n",
    "Volume = Index.sum()\n",
    "print(Volume)\n",
    "\n"
   ]
  },
  {
   "cell_type": "code",
   "execution_count": 11,
   "metadata": {},
   "outputs": [
    {
     "name": "stdout",
     "output_type": "stream",
     "text": [
      "308438\n"
     ]
    }
   ],
   "source": [
    "import SimpleITK as sitk\n",
    "\n",
    "raw_path_data = \"C:/Users/longl/Documents/emA3/Benji/MitochondriaAnalysis/TIFs/render_chimera_CC2/A4_Lipid.tif\"\n",
    "\n",
    "raw_data_readin= sitk.ReadImage(raw_path_data)\n",
    "raw_data = sitk.GetArrayFromImage(raw_data_readin)\n",
    "\n",
    "Index = raw_data>0\n",
    "Volume = Index.sum()\n",
    "print(Volume)\n",
    "\n"
   ]
  },
  {
   "cell_type": "code",
   "execution_count": 12,
   "metadata": {},
   "outputs": [
    {
     "name": "stdout",
     "output_type": "stream",
     "text": [
      "22249953\n"
     ]
    }
   ],
   "source": [
    "import SimpleITK as sitk\n",
    "\n",
    "raw_path_data = \"C:/Users/longl/Documents/emA3/Benji/MitochondriaAnalysis/TIFs/render_chimera_CC2/A5_Mitoch.tif\"\n",
    "\n",
    "raw_data_readin= sitk.ReadImage(raw_path_data)\n",
    "raw_data = sitk.GetArrayFromImage(raw_data_readin)\n",
    "\n",
    "Index = raw_data>0\n",
    "Volume = Index.sum()\n",
    "print(Volume)\n",
    "\n"
   ]
  },
  {
   "cell_type": "code",
   "execution_count": 24,
   "metadata": {},
   "outputs": [
    {
     "name": "stdout",
     "output_type": "stream",
     "text": [
      "(4, 4)\n",
      "[[4.10323177e-002 0.00000000e+000 9.50837665e-004 6.85910730e-002]\n",
      " [1.78022342e-306 6.23058028e-307 9.79107872e-307 6.89807188e-307]\n",
      " [7.56594375e-307 6.23060065e-307 1.78021527e-306 8.34454050e-308]\n",
      " [1.11261027e-306 1.15706896e-306 1.33512173e-306 1.33504432e-306]]\n"
     ]
    }
   ],
   "source": [
    "import numpy as np\n",
    "\n",
    "Proportion=np.empty([4, 4])\n",
    "\n",
    "PCC2 = np.array([13310291,0,308438,22249953])/493110500\n",
    "\n",
    "Proportion[0] = PCC2\n",
    "\n",
    "\n",
    "print(Proportion.shape)\n",
    "print(Proportion)"
   ]
  },
  {
   "cell_type": "code",
   "execution_count": 1,
   "metadata": {},
   "outputs": [
    {
     "ename": "ModuleNotFoundError",
     "evalue": "No module named 'mrcfile'",
     "output_type": "error",
     "traceback": [
      "\u001b[1;31m---------------------------------------------------------------------------\u001b[0m",
      "\u001b[1;31mModuleNotFoundError\u001b[0m                       Traceback (most recent call last)",
      "\u001b[1;32m<ipython-input-1-cce6cdb336d7>\u001b[0m in \u001b[0;36m<module>\u001b[1;34m\u001b[0m\n\u001b[1;32m----> 1\u001b[1;33m \u001b[1;32mimport\u001b[0m \u001b[0mmrcfile\u001b[0m\u001b[1;33m\u001b[0m\u001b[1;33m\u001b[0m\u001b[0m\n\u001b[0m",
      "\u001b[1;31mModuleNotFoundError\u001b[0m: No module named 'mrcfile'"
     ]
    }
   ],
   "source": [
    "import mrcfile"
   ]
  },
  {
   "cell_type": "code",
   "execution_count": null,
   "metadata": {},
   "outputs": [],
   "source": []
  }
 ],
 "metadata": {
  "kernelspec": {
   "display_name": "Python 3",
   "language": "python",
   "name": "python3"
  },
  "language_info": {
   "codemirror_mode": {
    "name": "ipython",
    "version": 3
   },
   "file_extension": ".py",
   "mimetype": "text/x-python",
   "name": "python",
   "nbconvert_exporter": "python",
   "pygments_lexer": "ipython3",
   "version": "3.8.3"
  }
 },
 "nbformat": 4,
 "nbformat_minor": 4
}
